{
 "cells": [
  {
   "cell_type": "code",
   "execution_count": 1,
   "metadata": {
    "collapsed": true,
    "ExecuteTime": {
     "end_time": "2023-05-10T19:48:12.833683Z",
     "start_time": "2023-05-10T19:48:12.820974300Z"
    }
   },
   "outputs": [],
   "source": [
    "# cria um registro de alunos\n",
    "alunos = [\n",
    "    {'nome': 'João', 'nota': 7.3},\n",
    "    {'nome': 'Maria', 'nota': 9.2},\n",
    "    {'nome': 'Pedro', 'nota': 9.8},\n",
    "    {'nome': 'Ana', 'nota': 8.7},\n",
    "]\n",
    "# criar um arquivo txt para inserir os dados de alunos\n",
    "arquivo = open('notas.txt', 'w')\n",
    "# escrever os dados dos alunos no arquivo\n",
    "for aluno in alunos:\n",
    "    arquivo.write(f\"{aluno['nome']}, {aluno['nota']}\\n\")\n",
    "# fechar o arquivo\n",
    "arquivo.close()\n",
    "\n",
    "\n"
   ]
  },
  {
   "cell_type": "code",
   "execution_count": null,
   "outputs": [],
   "source": [
    "# ler o arquivo\n",
    "arquivo = open('notas.txt', 'r')\n",
    "# ler o conteúdo do arquivo\n",
    "dados = arquivo.read()\n",
    "# fechar o arquivo\n",
    "arquivo.close()\n",
    "# imprimir o conteúdo do arquivo\n",
    "print(dados)\n"
   ],
   "metadata": {
    "collapsed": false
   }
  },
  {
   "cell_type": "code",
   "execution_count": null,
   "outputs": [],
   "source": [
    "# alternativa para ler o arquivo\n",
    "with open('notas.txt', 'r') as arquivo:\n",
    "    for linha in arquivo:\n",
    "        print(linha)"
   ],
   "metadata": {
    "collapsed": false
   }
  }
 ],
 "metadata": {
  "kernelspec": {
   "display_name": "Python 3",
   "language": "python",
   "name": "python3"
  },
  "language_info": {
   "codemirror_mode": {
    "name": "ipython",
    "version": 2
   },
   "file_extension": ".py",
   "mimetype": "text/x-python",
   "name": "python",
   "nbconvert_exporter": "python",
   "pygments_lexer": "ipython2",
   "version": "2.7.6"
  }
 },
 "nbformat": 4,
 "nbformat_minor": 0
}
